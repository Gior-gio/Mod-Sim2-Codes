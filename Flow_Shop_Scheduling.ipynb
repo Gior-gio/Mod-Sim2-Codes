{
  "cells": [
    {
      "cell_type": "markdown",
      "metadata": {
        "id": "2Iom5tyAhIDh"
      },
      "source": [
        "Job Shop Scheduling is a complex optimization problem that involves assigning jobs to machines while minimizing the total completion time (makespan). In this Colab, we implement a solution using Integer Linear Programming (ILP) with the Gurobi solver, modeling sequencing and non-overlapping constraints to achieve optimal scheduling, based on:\n",
        "\n",
        "**King, B., & Hildebrand, R. (2024). Job Shop Scheduling with Integer Programming, Shifting Bottleneck, and Decision Diagrams: A Computational Study. arXiv.** https://arxiv.org/abs/2407.18111"
      ]
    },
    {
      "cell_type": "code",
      "execution_count": null,
      "metadata": {
        "colab": {
          "base_uri": "https://localhost:8080/"
        },
        "id": "_B8BsF0v-q2p",
        "outputId": "dc5f7451-e909-4abe-fe62-2d33f454ecf0"
      },
      "outputs": [
        {
          "output_type": "stream",
          "name": "stdout",
          "text": [
            "Collecting gurobipy\n",
            "  Downloading gurobipy-12.0.2-cp311-cp311-manylinux2014_x86_64.manylinux_2_17_x86_64.whl.metadata (16 kB)\n",
            "Downloading gurobipy-12.0.2-cp311-cp311-manylinux2014_x86_64.manylinux_2_17_x86_64.whl (14.5 MB)\n",
            "\u001b[2K   \u001b[90m━━━━━━━━━━━━━━━━━━━━━━━━━━━━━━━━━━━━━━━━\u001b[0m \u001b[32m14.5/14.5 MB\u001b[0m \u001b[31m33.1 MB/s\u001b[0m eta \u001b[36m0:00:00\u001b[0m\n",
            "\u001b[?25hInstalling collected packages: gurobipy\n",
            "Successfully installed gurobipy-12.0.2\n"
          ]
        }
      ],
      "source": [
        "pip install gurobipy"
      ]
    },
    {
      "cell_type": "code",
      "execution_count": null,
      "metadata": {
        "id": "E2MXczL_bpv5"
      },
      "outputs": [],
      "source": [
        "#from gurobipy import *\n",
        "import matplotlib.pyplot as plt\n",
        "import pandas as pd\n",
        "import time\n",
        "import numpy as np\n",
        "import itertools\n",
        "import random\n",
        "import math"
      ]
    },
    {
      "cell_type": "markdown",
      "metadata": {
        "id": "EuNBnUHobsCg"
      },
      "source": [
        "## 1. Gurobi solving the problem:"
      ]
    },
    {
      "cell_type": "markdown",
      "metadata": {
        "id": "_mkdLeW7vN6u"
      },
      "source": [
        "Problem Inputs"
      ]
    },
    {
      "cell_type": "code",
      "execution_count": null,
      "metadata": {
        "id": "Rim2ZzNHvN6v"
      },
      "outputs": [],
      "source": [
        "# Problem parameters\n",
        "jobs = [\"T1\", \"T2\", \"T3\"]\n",
        "machines = [\"M1\", \"M2\", \"M3\", \"M4\"]\n",
        "\n",
        "# Processing times for each job on each machine\n",
        "processing_time = {\n",
        "    \"T1\": [30, 25, 40, 20],\n",
        "    \"T2\": [25, 25, 15, 10],\n",
        "    \"T3\": [20, 10, 30, 10],\n",
        "}"
      ]
    },
    {
      "cell_type": "markdown",
      "source": [
        "Guroby inputs"
      ],
      "metadata": {
        "id": "PvTOB3uQvO1t"
      }
    },
    {
      "cell_type": "code",
      "execution_count": null,
      "metadata": {
        "id": "sNVjTh_19Zd0",
        "colab": {
          "base_uri": "https://localhost:8080/",
          "height": 211
        },
        "outputId": "d23690cd-bd9a-4901-8615-bf1f745678cf"
      },
      "outputs": [
        {
          "output_type": "error",
          "ename": "NameError",
          "evalue": "name 'Model' is not defined",
          "traceback": [
            "\u001b[0;31m---------------------------------------------------------------------------\u001b[0m",
            "\u001b[0;31mNameError\u001b[0m                                 Traceback (most recent call last)",
            "\u001b[0;32m<ipython-input-39-8a5be1961325>\u001b[0m in \u001b[0;36m<cell line: 0>\u001b[0;34m()\u001b[0m\n\u001b[1;32m      3\u001b[0m \u001b[0;34m\u001b[0m\u001b[0m\n\u001b[1;32m      4\u001b[0m \u001b[0;31m# Model\u001b[0m\u001b[0;34m\u001b[0m\u001b[0;34m\u001b[0m\u001b[0m\n\u001b[0;32m----> 5\u001b[0;31m \u001b[0mm\u001b[0m \u001b[0;34m=\u001b[0m \u001b[0mModel\u001b[0m\u001b[0;34m(\u001b[0m\u001b[0;34m\"Ejemplo\"\u001b[0m\u001b[0;34m)\u001b[0m\u001b[0;34m\u001b[0m\u001b[0;34m\u001b[0m\u001b[0m\n\u001b[0m\u001b[1;32m      6\u001b[0m \u001b[0;34m\u001b[0m\u001b[0m\n\u001b[1;32m      7\u001b[0m \u001b[0;31m# >> Start time variables <<\u001b[0m\u001b[0;34m\u001b[0m\u001b[0;34m\u001b[0m\u001b[0m\n",
            "\u001b[0;31mNameError\u001b[0m: name 'Model' is not defined"
          ]
        }
      ],
      "source": [
        "# Big M parameter\n",
        "M = 1000\n",
        "\n",
        "# Model\n",
        "m = Model(\"Ejemplo\")\n",
        "\n",
        "# >> Start time variables <<\n",
        "# S_j,m = Start time of job j on machine m\n",
        "start = {}\n",
        "for job in jobs:\n",
        "    for i, machine in enumerate(machines):\n",
        "        start[job, machine] = m.addVar(vtype=GRB.CONTINUOUS, name=f\"S_{job}_{machine}\")\n",
        "\n",
        "# Makespan variable\n",
        "Cmax = m.addVar(vtype=GRB.CONTINUOUS, name=\"Cmax\")\n",
        "\n",
        "# Binary order variables (between each pair of jobs on each machine)\n",
        "# X_j1_j2,m = Binary variable indicating if job j1 precedes job j2 on machine m\n",
        "order = {}\n",
        "for m_index, machine in enumerate(machines):\n",
        "    for j1 in range(len(jobs)):\n",
        "        for j2 in range(j1 + 1, len(jobs)):\n",
        "            order[jobs[j1], jobs[j2], machine] = m.addVar(vtype=GRB.BINARY, name=f\"X_{jobs[j1]}_{jobs[j2]}_{machine}\")\n",
        "\n",
        "# >> Sequence constraints (Flow Shop) <<\n",
        "# S_j,m+1 >= S_j,m + p_j,m\n",
        "# p_j,m = Processing time of job j on machine m\n",
        "for job in jobs:\n",
        "    for i in range(len(machines) - 1):\n",
        "        m.addConstr(\n",
        "            start[job, machines[i + 1]] >= start[job, machines[i]] + processing_time[job][i],\n",
        "            f\"Seq_{job}_{machines[i]}_{machines[i+1]}\"\n",
        "        )\n",
        "\n",
        "# >> No-overlap constraints on machines <<\n",
        "for m_index, machine in enumerate(machines):\n",
        "    for j1 in range(len(jobs)):\n",
        "        for j2 in range(j1 + 1, len(jobs)):\n",
        "            job1, job2 = jobs[j1], jobs[j2]\n",
        "            p1, p2 = processing_time[job1][m_index], processing_time[job2][m_index]\n",
        "            # Job1 before Job2\n",
        "            # S_j2,m >= S_j1,m + p_j1,m - M * X_j1_j2,m\n",
        "            m.addConstr(\n",
        "                start[job2, machine] >= start[job1, machine] + p1 - M * order[job1, job2, machine],\n",
        "                f\"NoOverlap_{job1}_{job2}_{machine}_A\"\n",
        "            )\n",
        "            # Job2 before Job1\n",
        "            # S_j1,m >= S_j2,m + p_j2,m - M * (1 - X_j1_j2,m)\n",
        "            m.addConstr(\n",
        "                start[job1, machine] >= start[job2, machine] + p2 - M * (1 - order[job1, job2, machine]),\n",
        "                f\"NoOverlap_{job2}_{job1}_{machine}_B\"\n",
        "            )\n",
        "\n",
        "# >> Makespan constraints <<\n",
        "# C_max >= S_j,m_end + p_j,m_end\n",
        "for job in jobs:\n",
        "    m.addConstr(Cmax >= start[job, machines[-1]] + processing_time[job][-1], f\"Makespan_{job}\")\n",
        "\n",
        "# >> Objective function <<\n",
        "m.setObjective(Cmax, GRB.MINIMIZE)\n",
        "\n",
        "# Optimization\n",
        "m.optimize()\n",
        "\n",
        "\n",
        "# Time measurement\n",
        "start_time = time.time()\n",
        "end_time = time.time()\n",
        "execution_time = end_time - start_time"
      ]
    },
    {
      "cell_type": "code",
      "execution_count": null,
      "metadata": {
        "id": "-cNDAjnBazrW"
      },
      "outputs": [],
      "source": [
        "# >> Results <<\n",
        "if m.status == GRB.OPTIMAL:\n",
        "    print(f\"\\nMinimum makespan: {Cmax.X}\\n\")\n",
        "    for job in jobs:\n",
        "        for i, machine in enumerate(machines):\n",
        "            print(f\"Start time of {job} on {machine}: {start[job, machine].X:.2f}\")\n",
        "else:\n",
        "    print(\"No optimal solution found.\")\n",
        "\n",
        "print(f'\\nExecution Time: {execution_time:.9f}')"
      ]
    },
    {
      "cell_type": "code",
      "execution_count": null,
      "metadata": {
        "id": "3uU57OFobKz1"
      },
      "outputs": [],
      "source": [
        "# Store results in a list of dictionaries\n",
        "gantt_data = []\n",
        "\n",
        "if m.status == GRB.OPTIMAL:\n",
        "    print(f\"\\nMinimum makespan: {Cmax.X}\\n\")\n",
        "    for job in jobs:\n",
        "        for i, machine in enumerate(machines):\n",
        "            start_time = start[job, machine].X\n",
        "            duration = processing_time[job][i]\n",
        "            gantt_data.append({\"Job\": job, \"Machine\": machine, \"Start\": start_time, \"Duration\": duration})\n",
        "\n",
        "# Convert the data to a DataFrame\n",
        "df = pd.DataFrame(gantt_data)\n",
        "\n",
        "# Plot the Gantt chart\n",
        "fig, ax = plt.subplots(figsize=(12, 6))\n",
        "\n",
        "colors = [\"#ff0000\", \"#00ff00\", \"#1111ff\"]  # Different colors for each job\n",
        "for i, job in enumerate(jobs):\n",
        "    job_data = df[df[\"Job\"] == job]\n",
        "    # Add the bar with the label only once per job\n",
        "    ax.barh(job_data[\"Machine\"], job_data[\"Duration\"], left=job_data[\"Start\"], height=0.4,\n",
        "            label=job, color=colors[i])\n",
        "\n",
        "# Add legend outside the plot\n",
        "plt.legend(title=\"Jobs\", bbox_to_anchor=(1.05, 1), loc=\"upper left\")\n",
        "\n",
        "# Add labels and title\n",
        "ax.set_xlabel(\"Time\")\n",
        "ax.set_ylabel(\"Machine\")\n",
        "ax.set_title(\"Gantt Chart - Job Scheduling\")\n",
        "\n",
        "# Configure grid\n",
        "ax.grid(True, axis=\"x\", linestyle=\"--\", alpha=0.6)  # Vertical grid lines\n",
        "ax.set_xticks(range(0, int(Cmax.X) + 5, 5))  # Grid every 5 units\n",
        "\n",
        "# Horizontal lines (top and bottom of each bar)\n",
        "y_positions = range(len(machines))\n",
        "for y in y_positions:\n",
        "    ax.axhline(y + 0.2, color=\"gray\", linestyle=\"--\", alpha=0.6)  # Top line\n",
        "    ax.axhline(y - 0.2, color=\"gray\", linestyle=\"--\", alpha=0.6)  # Bottom line\n",
        "\n",
        "# Show the plot\n",
        "plt.tight_layout()\n",
        "plt.show()\n"
      ]
    },
    {
      "cell_type": "markdown",
      "metadata": {
        "id": "foDp4cCGRAxD"
      },
      "source": [
        "## 2. Direct Evaluation"
      ]
    },
    {
      "cell_type": "markdown",
      "metadata": {
        "id": "q5u69xkFfHW-"
      },
      "source": [
        "#### 2.1 Makespan and brute force approach"
      ]
    },
    {
      "cell_type": "code",
      "execution_count": null,
      "metadata": {
        "id": "I1r-7CCBRAL3"
      },
      "outputs": [],
      "source": [
        "def cal_makespan(proc_time, job_sequence):\n",
        "    jobs = list(proc_time.keys())\n",
        "    num_jobs = len(jobs)\n",
        "    num_machines = len(next(iter(proc_time.values())))\n",
        "\n",
        "    comp_time = np.zeros((num_jobs, num_machines))\n",
        "\n",
        "    # Fill completion times\n",
        "    for j, job in enumerate(job_sequence):\n",
        "        for m in range(num_machines):\n",
        "            if j == 0 and m == 0:\n",
        "                # First job and machine time\n",
        "                comp_time[j, m] = proc_time[job][m]\n",
        "            elif j == 0:\n",
        "                # Subsequent machine times for the first job\n",
        "                comp_time[j, m] = comp_time[j, m-1] + proc_time[job][m]\n",
        "            elif m == 0:\n",
        "                # First machine time for the subsequent jobs\n",
        "                comp_time[j, m] = comp_time[j-1, m] + proc_time[job][m]\n",
        "            else:\n",
        "                # Subsequent machine times for the first job\n",
        "                comp_time[j, m] = max(comp_time[j-1, m], comp_time[j, m-1]) + proc_time[job][m]\n",
        "\n",
        "    return comp_time[-1, -1]"
      ]
    },
    {
      "cell_type": "markdown",
      "source": [
        "Brute force function"
      ],
      "metadata": {
        "id": "7iyZp_CbzN-e"
      }
    },
    {
      "cell_type": "code",
      "execution_count": null,
      "metadata": {
        "id": "7d4LRS0aedE3"
      },
      "outputs": [],
      "source": [
        "def brute_force(proc_time, jobs, verbose=False):\n",
        "    min = np.inf\n",
        "    best = []\n",
        "    for order in list(itertools.permutations(jobs)):\n",
        "        makespan = cal_makespan(proc_time, order)\n",
        "        if(makespan < min):\n",
        "            min = makespan\n",
        "            best = order\n",
        "\n",
        "    if(verbose):\n",
        "        print(f'Final Brute Force results')\n",
        "        print(f'Min: {min} with {best}\\n')\n",
        "    return min, best"
      ]
    },
    {
      "cell_type": "markdown",
      "source": [
        "### 2.2 Genetic algorithm"
      ],
      "metadata": {
        "id": "7OxY5a_Af9_J"
      }
    },
    {
      "cell_type": "markdown",
      "source": [
        "#### Required functions"
      ],
      "metadata": {
        "id": "4LRIbdALuN-i"
      }
    },
    {
      "cell_type": "markdown",
      "source": [
        "Initialize and calculate fitness variable"
      ],
      "metadata": {
        "id": "WqTMyvkrUYX4"
      }
    },
    {
      "cell_type": "code",
      "source": [
        "def IniPopGen(size, num_jobs):\n",
        "    # Initial Population Generation\n",
        "    base = list(range(1, num_jobs + 1))\n",
        "    pop = []\n",
        "\n",
        "    for _ in range(size):\n",
        "        sampled = random.sample(base, num_jobs) # Random sort\n",
        "        jobs = [\"T\" + str(i) for i in sampled] # Convert job indices to job names\n",
        "        pop.append(jobs)\n",
        "    return pop\n",
        "\n",
        "def FitCalc(pop, proc_time):\n",
        "    # Population fitness calculation\n",
        "    return [1 / cal_makespan(proc_time, indv) for indv in pop]"
      ],
      "metadata": {
        "id": "0oqkJBkggAcB"
      },
      "execution_count": null,
      "outputs": []
    },
    {
      "cell_type": "markdown",
      "source": [
        "Selection of best individuals"
      ],
      "metadata": {
        "id": "Bo2nqfo2IypV"
      }
    },
    {
      "cell_type": "code",
      "source": [
        "def SelBest(pop, fitness, method=\"rank\", vs_size=2):\n",
        "    # Selects best individuals using the specified method: 'rank' or 'vs'.\n",
        "    # Returns the new population\n",
        "\n",
        "    NPop = len(pop)\n",
        "\n",
        "    if method == \"rank\":\n",
        "        # Link population and fitness values\n",
        "        rank_zip = list(zip(pop, fitness))\n",
        "        # Ascending order of fitness (x[1])\n",
        "        rank_zip.sort(key=lambda x: x[1])\n",
        "        # Probability ranks (Highest to the best)\n",
        "        ranks = np.arange(NPop, 0, -1)\n",
        "        probs = ranks / ranks.sum()\n",
        "\n",
        "        # Select individuals according to \"probs\"\n",
        "        sel_idx = np.random.choice(\n",
        "            range(NPop),\n",
        "            size=NPop,\n",
        "            replace=True,\n",
        "            p=probs\n",
        "        )\n",
        "\n",
        "        best = [pop[i] for i in sel_idx]\n",
        "        return list(best)\n",
        "\n",
        "    elif method == \"vs\":\n",
        "        # Tournament Selection\n",
        "        selected = []\n",
        "        for _ in range(NPop):\n",
        "            # Random pairings\n",
        "            fighters = random.sample(range(NPop), vs_size)\n",
        "            # Compare fitness to choose the better individual\n",
        "            best_idx = max(fighters, key=lambda i: fitness[i])\n",
        "            selected.append(pop[best_idx])\n",
        "        return selected\n",
        "\n",
        "    else:\n",
        "        raise ValueError(\"Check your selection method, it must be 'rank' or 'vs'\")"
      ],
      "metadata": {
        "id": "j4tEVZT2IyJB"
      },
      "execution_count": null,
      "outputs": []
    },
    {
      "cell_type": "markdown",
      "source": [
        "Cross and mutation"
      ],
      "metadata": {
        "id": "kP62sUiSI6Em"
      }
    },
    {
      "cell_type": "code",
      "source": [
        "def CrossOX1(parent1, parent2):\n",
        "    # Order Crossover (OX1)\n",
        "\n",
        "    # Child size equal to parent size\n",
        "    size = len(parent1)\n",
        "    child = [None] * size\n",
        "\n",
        "    # Select a random section of parent1\n",
        "    start, end = sorted(random.sample(range(size), 2))\n",
        "    child[start:end] = parent1[start:end]\n",
        "\n",
        "    # Fill the missing parts with parent2 \"genes\"\n",
        "    gen_pos = end # Start at the end of parent1 section\n",
        "    for gene in parent2:\n",
        "        if gene not in child:\n",
        "            # Move gen_pos to None positions\n",
        "            while child[gen_pos] is not None:\n",
        "                gen_pos += 1\n",
        "                # Restart the search loop (circular index)\n",
        "                if gen_pos >= size:\n",
        "                    gen_pos = 0\n",
        "            # Assign child gene\n",
        "            child[gen_pos] = gene\n",
        "\n",
        "    return child\n",
        "\n",
        "def Mutate(indv):\n",
        "    # Swap mutation\n",
        "    i, j = random.sample(range(len(indv)), 2) # Random Index pair\n",
        "    indv[i], indv[j] = indv[j], indv[i] # Swap\n",
        "    return indv"
      ],
      "metadata": {
        "id": "7LV5LYClI4iL"
      },
      "execution_count": null,
      "outputs": []
    },
    {
      "cell_type": "markdown",
      "source": [
        "Memetic functions"
      ],
      "metadata": {
        "id": "ywGrfh0DktJk"
      }
    },
    {
      "cell_type": "code",
      "source": [
        "def Local_Search(indv):\n",
        "# Function by Rafael Rojas\n",
        "    # do-while condition\n",
        "    t = -1\n",
        "    while t < 0:\n",
        "        # Makespan calculation for initial individual\n",
        "        fitness1 = cal_makespan(processing_time, indv)\n",
        "        # Makespan calculation for new individual\n",
        "        indv_new = Mutate(indv)\n",
        "        fitness2 = cal_makespan(processing_time, indv)\n",
        "        # Makespan comparison\n",
        "        t = fitness2 - fitness1\n",
        "        # Change individual if a improvement is observed\n",
        "        if t<0:\n",
        "            indv = indv_new\n",
        "    return indv\n"
      ],
      "metadata": {
        "id": "xT0lqJFzE1Pr"
      },
      "execution_count": null,
      "outputs": []
    },
    {
      "cell_type": "markdown",
      "source": [
        "Simulated Annealing"
      ],
      "metadata": {
        "id": "Bl8I2biwt7Ln"
      }
    },
    {
      "cell_type": "code",
      "source": [
        "def Sim_Annealing(S):\n",
        "# Function by Rafael Rojas\n",
        "    # Initial solution generation\n",
        "    best_makespan = cal_makespan(processing_time, S)\n",
        "    best_sol = S\n",
        "\n",
        "    # Parameters\n",
        "    T0 = 100\n",
        "    alfa = 0.9\n",
        "    L = 100\n",
        "    Tf = 1\n",
        "    beta = 1/1000 # (Boltzmann)\n",
        "\n",
        "    # Initial temperature\n",
        "    T = T0\n",
        "\n",
        "    # SA process\n",
        "    while T > Tf:\n",
        "        for z in range(L):\n",
        "            # Generate random neighbor\n",
        "            S_new = Mutate(S)\n",
        "            # Calculate new and old makespans\n",
        "            makespan_old = cal_makespan(processing_time, S)\n",
        "            makespan_new = cal_makespan(processing_time, S_new)\n",
        "            # Makespan difference\n",
        "            deltaE = makespan_new - makespan_old\n",
        "            # Compare makespan\n",
        "            if makespan_new < best_makespan:\n",
        "              # If it is better than the best, both best makespan and solution are updated\n",
        "              best_makespan = makespan_new\n",
        "              best_sol = S_new\n",
        "            # If a improvement is observed, the solution is saved\n",
        "            if deltaE < 0:\n",
        "              S = S_new\n",
        "            # If not, the save happens according to a declining propability\n",
        "            elif math.exp(-deltaE/T) > random.random():\n",
        "              S = S_new\n",
        "\n",
        "        # Temperature update\n",
        "        T = alfa*T\n",
        "\n",
        "    return best_sol"
      ],
      "metadata": {
        "id": "HNKVKYxsLB_J"
      },
      "execution_count": null,
      "outputs": []
    },
    {
      "cell_type": "markdown",
      "source": [
        "Evolutive generation"
      ],
      "metadata": {
        "id": "yui0IChAKLph"
      }
    },
    {
      "cell_type": "code",
      "source": [
        "def EvolGen(pop, proc_time, sel_method=\"rank\", vs_size=2, cross_rate=0.8, mut_rate=0.02):\n",
        "    # >> 0. Local search (by Rafael Rojas)\n",
        "    #for i in range(10):\n",
        "      #r = random.randint(0,len(pop)-1)\n",
        "      #pop[r] = Sim_Annealing(pop[r])\n",
        "\n",
        "    # >> 1. Fitness calculation\n",
        "    fitness = FitCalc(pop, proc_time)\n",
        "\n",
        "    # Save best\n",
        "    best_fit = max(fitness)\n",
        "    best_indv = pop[fitness.index(best_fit)]\n",
        "\n",
        "    # >> 2. Selection\n",
        "    selected = SelBest(pop, fitness, method=sel_method, vs_size=vs_size)\n",
        "\n",
        "    # >> 3. Crossover\n",
        "    new_pop = []\n",
        "    for i in range(0, len(selected), 2):\n",
        "        # Select i-th parents couple\n",
        "        parent1 = selected[i]\n",
        "        # Check i+1-th sample\n",
        "        if i + 1 < len(selected):\n",
        "            parent2 = selected[i + 1]\n",
        "        else:\n",
        "            parent2 = selected[0]  # In case of odd population size\n",
        "\n",
        "        # Random cross activation\n",
        "        if random.random() < cross_rate:\n",
        "            # A pair of childs\n",
        "            child1 = CrossOX1(parent1, parent2)\n",
        "            child2 = CrossOX1(parent2, parent1)\n",
        "        else:\n",
        "            child1, child2 = parent1[:], parent2[:]\n",
        "\n",
        "        # Extend new population\n",
        "        new_pop.extend([child1, child2])\n",
        "\n",
        "    # >> 4. Mutation\n",
        "    for i in range(len(new_pop)):\n",
        "        if random.random() < mut_rate:\n",
        "            new_pop[i] = Mutate(new_pop[i])\n",
        "\n",
        "    return new_pop[:len(pop)], best_fit, best_indv\n"
      ],
      "metadata": {
        "id": "GOLnufPRKH6F"
      },
      "execution_count": null,
      "outputs": []
    },
    {
      "cell_type": "markdown",
      "metadata": {
        "id": "D7edKtYWfJbL"
      },
      "source": [
        "#### Testing"
      ]
    },
    {
      "cell_type": "code",
      "source": [
        "# Example, 5 Jobs, 4 Machines\n",
        "jobs = [\"T1\", \"T2\", \"T3\", \"T4\", \"T5\", \"T6\"]\n",
        "machines = [\"M1\", \"M2\", \"M3\", \"M4\"]\n",
        "\n",
        "# Processing time of each job on each machine\n",
        "processing_time = {\n",
        "    \"T1\": [30, 25, 40, 20],\n",
        "    \"T2\": [25, 25, 15, 10],\n",
        "    \"T3\": [20, 10, 30, 10],\n",
        "    \"T4\": [35, 20, 25, 15],\n",
        "    \"T5\": [15, 30, 20, 25],\n",
        "    \"T6\": [25, 20, 30, 15],\n",
        "}\n",
        "\n",
        "#Brute force\n",
        "min, best = brute_force(processing_time,jobs,verbose=True)"
      ],
      "metadata": {
        "id": "gL1xzrX7k0B_",
        "colab": {
          "base_uri": "https://localhost:8080/"
        },
        "outputId": "24203def-9b24-46cc-fcfc-4d37c46529fe"
      },
      "execution_count": null,
      "outputs": [
        {
          "output_type": "stream",
          "name": "stdout",
          "text": [
            "Final Brute Force results\n",
            "Min: 205.0 with ('T3', 'T5', 'T6', 'T1', 'T4', 'T2')\n",
            "\n"
          ]
        }
      ]
    },
    {
      "cell_type": "code",
      "source": [
        "# Initial population generation\n",
        "population = IniPopGen(20, len(jobs))\n",
        "\n",
        "for generation in range(50):\n",
        "    population, best_fit, best_indv = EvolGen(population, processing_time, sel_method=\"vs\", vs_size=3, cross_rate=0.9, mut_rate=0.2)\n",
        "\n",
        "print(f'Best Makespan: {1/best_fit} with {best_indv}')"
      ],
      "metadata": {
        "colab": {
          "base_uri": "https://localhost:8080/"
        },
        "id": "ANlCGoduQLvr",
        "outputId": "d2c93132-76c9-4327-9dcd-fbe7b24ee5fd"
      },
      "execution_count": null,
      "outputs": [
        {
          "output_type": "stream",
          "name": "stdout",
          "text": [
            "Best Makespan: 209.99999999999997 with ['T3', 'T5', 'T1', 'T4', 'T6', 'T2']\n"
          ]
        }
      ]
    },
    {
      "cell_type": "code",
      "source": [
        "processing_time = {\n",
        "    \"T1\": [54, 79, 16, 66, 58],\n",
        "    \"T2\": [83, 3, 89, 58, 56],\n",
        "    \"T3\": [15, 11, 49, 31, 20],\n",
        "    \"T4\": [71, 99, 15, 68, 85],\n",
        "    \"T5\": [77, 56, 89, 78, 53],\n",
        "    \"T6\": [36, 70, 45, 91, 35],\n",
        "    \"T7\": [53, 99, 60, 13, 53],\n",
        "    \"T8\": [38, 60, 23, 59, 41],\n",
        "    \"T9\": [27, 5, 57, 49, 69],\n",
        "    \"T10\": [87, 56, 64, 85, 13],\n",
        "    \"T11\": [76, 3, 7, 85, 86],\n",
        "    \"T12\": [91, 61, 1, 9, 72],\n",
        "    \"T13\": [14, 73, 63, 39, 8],\n",
        "    \"T14\": [29, 75, 41, 41, 49],\n",
        "    \"T15\": [12, 47, 63, 56, 47],\n",
        "    \"T16\": [77, 14, 47, 40, 87],\n",
        "    \"T17\": [32, 21, 26, 54, 58],\n",
        "    \"T18\": [87, 86, 75, 77, 18],\n",
        "    \"T19\": [68, 5, 77, 51, 68],\n",
        "    \"T20\": [94, 77, 40, 31, 28],\n",
        "}\n",
        "\n",
        "jobs = [\"T\" + str(i) for i in range(1, 21)]\n",
        "machines = [\"M\" + str(i) for i in range(1, 5)]\n",
        "\n",
        "# Initial population generation\n",
        "population = IniPopGen(200, len(jobs))\n",
        "\n",
        "for generation in range(50):\n",
        "    population, best_fit, best_indv = EvolGen(population, processing_time, sel_method=\"vs\", vs_size=3, cross_rate=0.9, mut_rate=0.2)\n",
        "\n",
        "print(f'Best Makespan: {1/best_fit} with {best_indv}')\n",
        "print(f'Gap: {(1/best_fit-1278)/1278*100}%')"
      ],
      "metadata": {
        "colab": {
          "base_uri": "https://localhost:8080/"
        },
        "id": "IAFiQKUUB8A-",
        "outputId": "6385d3b8-2bf0-4719-8670-df46da2b557a"
      },
      "execution_count": null,
      "outputs": [
        {
          "output_type": "stream",
          "name": "stdout",
          "text": [
            "Best Makespan: 1330.0 with ['T15', 'T6', 'T12', 'T17', 'T19', 'T14', 'T9', 'T5', 'T10', 'T4', 'T8', 'T3', 'T11', 'T7', 'T2', 'T1', 'T16', 'T13', 'T18', 'T20']\n",
            "Gap: 4.068857589984351%\n"
          ]
        }
      ]
    },
    {
      "cell_type": "markdown",
      "source": [
        "### 2.3 Monte-Carlo"
      ],
      "metadata": {
        "id": "JrBC0wS-uhLN"
      }
    },
    {
      "cell_type": "markdown",
      "source": [
        "Random Matrix generator"
      ],
      "metadata": {
        "id": "BvDln7hwuqlt"
      }
    },
    {
      "cell_type": "code",
      "source": [
        "def samp_gen(std_dict, machines, processing_time, verbose=False):\n",
        "    # Create a new dictionary with random processing times\n",
        "    proc_time_MC = {}\n",
        "\n",
        "    for job in processing_time:\n",
        "        orig_times = processing_time[job]\n",
        "\n",
        "        # Get job-specific std; fallback to 1.0 if not found\n",
        "        job_std = std_dict.get(job)\n",
        "\n",
        "        # Generate random times per machine\n",
        "        rand_times = np.random.normal(loc=orig_times, scale=job_std)\n",
        "        proc_time_MC[job] = list(rand_times)\n",
        "\n",
        "        if verbose:\n",
        "            print(f'| {job} | {[f\"{val:.6g}\" for val in proc_time_MC[job]]}')\n",
        "\n",
        "\n",
        "    return proc_time_MC\n"
      ],
      "metadata": {
        "id": "kX0QnN_eu7uF"
      },
      "execution_count": null,
      "outputs": []
    },
    {
      "cell_type": "markdown",
      "source": [
        "Monte-carlo loop:"
      ],
      "metadata": {
        "id": "7h5my3YByFKU"
      }
    },
    {
      "cell_type": "code",
      "source": [
        "def Monte_Carlo(NSamples, data_std, machines, processing_time, verbose=False):\n",
        "    Min_List = []\n",
        "\n",
        "    for i in range(NSamples):\n",
        "        # Generate one sample\n",
        "        proc_time_MC = samp_gen(data_std, machines, processing_time)\n",
        "\n",
        "        # Evaluate the makespan using brute force\n",
        "        min_val, _ = brute_force(proc_time_MC, jobs)\n",
        "        Min_List.append(min_val)\n",
        "\n",
        "    avg = np.mean(Min_List)\n",
        "    std = np.std(Min_List)\n",
        "\n",
        "    if verbose:\n",
        "        print(f'Final MC results using: {NSamples} samples')\n",
        "        print(f'Average: {avg}')\n",
        "        print(f'Std: {std}\\n')\n",
        "\n",
        "    return avg, std\n"
      ],
      "metadata": {
        "id": "QLsz0FdvyGpd"
      },
      "execution_count": null,
      "outputs": []
    },
    {
      "cell_type": "markdown",
      "source": [
        "Testing"
      ],
      "metadata": {
        "id": "upfASpQZx6Lf"
      }
    },
    {
      "cell_type": "code",
      "source": [
        "# Problem parameters\n",
        "jobs = [\"T1\", \"T2\", \"T3\"]\n",
        "machines = [\"M1\", \"M2\", \"M3\", \"M4\"]\n",
        "\n",
        "# Processing times for each job on each machine\n",
        "processing_time = {\n",
        "    \"T1\": [30, 25, 40, 20],\n",
        "    \"T2\": [25, 25, 15, 10],\n",
        "    \"T3\": [20, 10, 30, 10],\n",
        "}\n",
        "\n",
        "# Typical results\n",
        "min, best = brute_force(processing_time, jobs, verbose=True)"
      ],
      "metadata": {
        "colab": {
          "base_uri": "https://localhost:8080/"
        },
        "id": "7vXPcAWsxy8y",
        "outputId": "1c5d3a86-d0e0-4e3c-a522-f355652fc241"
      },
      "execution_count": null,
      "outputs": [
        {
          "output_type": "stream",
          "name": "stdout",
          "text": [
            "Final Brute Force results\n",
            "Min: 145.0 with ('T3', 'T1', 'T2')\n",
            "\n"
          ]
        }
      ]
    },
    {
      "cell_type": "code",
      "source": [
        "std_dict = {\n",
        "    \"T1\": [4, 4, 4, 4],\n",
        "    \"T2\": [4, 4, 4, 4],\n",
        "    \"T3\": [5, 5, 5, 5]\n",
        "}\n",
        "\n",
        "# Sample Generator\n",
        "new_times = samp_gen(std_dict, machines, processing_time, verbose=True)\n",
        "\n",
        "# Monte-Carlo\n",
        "avg_MC, std_MC = Monte_Carlo(1024, std_dict, machines, processing_time, verbose=True)"
      ],
      "metadata": {
        "colab": {
          "base_uri": "https://localhost:8080/"
        },
        "id": "1VSxkFmeu5l7",
        "outputId": "a7f0b9d7-e8d6-4266-8791-8b1e67466fa5"
      },
      "execution_count": null,
      "outputs": [
        {
          "output_type": "stream",
          "name": "stdout",
          "text": [
            "| T1 | ['33.1526', '31.3851', '45.1529', '14.0319']\n",
            "| T2 | ['28.231', '29.2905', '15.1315', '14.1782']\n",
            "| T3 | ['23.9964', '5.97019', '40.2276', '11.0803']\n",
            "Final MC results using: 1024 samples\n",
            "Average: 143.38007941873053\n",
            "Std: 9.33307443080061\n",
            "\n"
          ]
        }
      ]
    }
  ],
  "metadata": {
    "colab": {
      "collapsed_sections": [
        "EuNBnUHobsCg",
        "7OxY5a_Af9_J",
        "4LRIbdALuN-i",
        "D7edKtYWfJbL"
      ],
      "provenance": []
    },
    "kernelspec": {
      "display_name": "Python 3",
      "name": "python3"
    },
    "language_info": {
      "name": "python"
    }
  },
  "nbformat": 4,
  "nbformat_minor": 0
}