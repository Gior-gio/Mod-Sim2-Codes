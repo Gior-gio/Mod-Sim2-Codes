{
  "nbformat": 4,
  "nbformat_minor": 0,
  "metadata": {
    "colab": {
      "provenance": []
    },
    "kernelspec": {
      "name": "python3",
      "display_name": "Python 3"
    },
    "language_info": {
      "name": "python"
    }
  },
  "cells": [
    {
      "cell_type": "markdown",
      "source": [
        "Instalar librería de *Gurobipy*:"
      ],
      "metadata": {
        "id": "ugqDCZyWiN87"
      }
    },
    {
      "cell_type": "code",
      "execution_count": null,
      "metadata": {
        "colab": {
          "base_uri": "https://localhost:8080/"
        },
        "id": "wvTHa4jNnxxb",
        "outputId": "c450422f-b8d7-48b2-ecb1-de89abbb1101"
      },
      "outputs": [
        {
          "output_type": "stream",
          "name": "stdout",
          "text": [
            "Collecting gurobipy\n",
            "  Downloading gurobipy-12.0.1-cp311-cp311-manylinux2014_x86_64.manylinux_2_17_x86_64.whl.metadata (16 kB)\n",
            "Downloading gurobipy-12.0.1-cp311-cp311-manylinux2014_x86_64.manylinux_2_17_x86_64.whl (14.4 MB)\n",
            "\u001b[2K   \u001b[90m━━━━━━━━━━━━━━━━━━━━━━━━━━━━━━━━━━━━━━━━\u001b[0m \u001b[32m14.4/14.4 MB\u001b[0m \u001b[31m22.3 MB/s\u001b[0m eta \u001b[36m0:00:00\u001b[0m\n",
            "\u001b[?25hInstalling collected packages: gurobipy\n",
            "Successfully installed gurobipy-12.0.1\n"
          ]
        }
      ],
      "source": [
        "pip install gurobipy"
      ]
    },
    {
      "cell_type": "markdown",
      "source": [
        "Importarla"
      ],
      "metadata": {
        "id": "bGFc-ULEiVNB"
      }
    },
    {
      "cell_type": "code",
      "source": [
        "from gurobipy import *\n",
        "import time"
      ],
      "metadata": {
        "id": "U5PB8aUHn-eX"
      },
      "execution_count": null,
      "outputs": []
    },
    {
      "cell_type": "markdown",
      "source": [
        "**Ejercicio 1**"
      ],
      "metadata": {
        "id": "YZLz38XciZO4"
      }
    },
    {
      "cell_type": "code",
      "source": [
        "Mod1 = Model(\"Ejercicio1\")\n",
        "A = Mod1.addVar(vtype=GRB.INTEGER, name = \"A\")\n",
        "B = Mod1.addVar(vtype=GRB.INTEGER, name = \"B\")\n",
        "\n",
        "# Objetivo\n",
        "Mod1.setObjective(5*A + 8*B, GRB.MAXIMIZE)\n",
        "# Restricciones\n",
        "Mod1.addConstr(2*A + 3*B <= 100, \"Horas\")\n",
        "Mod1.addConstr(3*A + 5*B <= 150, \"Material\")\n",
        "\n",
        "Mod1.update()\n",
        "Mod1.display()"
      ],
      "metadata": {
        "colab": {
          "base_uri": "https://localhost:8080/"
        },
        "id": "2ZetZf3-oE7O",
        "outputId": "91749030-3eef-4616-a825-9c22a4def76e"
      },
      "execution_count": null,
      "outputs": [
        {
          "output_type": "stream",
          "name": "stdout",
          "text": [
            "Restricted license - for non-production use only - expires 2026-11-23\n",
            "Maximize\n",
            "  5.0 A + 8.0 B\n",
            "Subject To\n",
            "  Horas: 2.0 A + 3.0 B <= 100\n",
            "  Material: 3.0 A + 5.0 B <= 150\n",
            "General Integers\n",
            "  ['A', 'B']\n"
          ]
        },
        {
          "output_type": "stream",
          "name": "stderr",
          "text": [
            "<ipython-input-3-0da1f905c0fc>:12: DeprecationWarning: Model.display() is deprecated\n",
            "  Mod1.display()\n"
          ]
        }
      ]
    },
    {
      "cell_type": "markdown",
      "source": [
        "**Ejercicio 2**"
      ],
      "metadata": {
        "id": "PlJmkTqhi4bZ"
      }
    },
    {
      "cell_type": "code",
      "source": [
        "Mod2 = Model(\"Ejercicio2\")\n",
        "R1 = Mod2.addVar(vtype=GRB.INTEGER, name = \"R1\")\n",
        "R2 = Mod2.addVar(vtype=GRB.INTEGER, name = \"R2\")\n",
        "\n",
        "# Objetivo\n",
        "Mod2.setObjective(2*R1 + 3*R2, GRB.MINIMIZE)\n",
        "# Restricción\n",
        "Mod2.addConstr(5*R1 + 8*R2 >= 50)\n",
        "\n",
        "Mod2.update()\n",
        "Mod2.display()"
      ],
      "metadata": {
        "id": "LuwDQt3NpMD3",
        "colab": {
          "base_uri": "https://localhost:8080/"
        },
        "outputId": "1831dc5f-f870-4f44-bd44-891e12fa905f"
      },
      "execution_count": null,
      "outputs": [
        {
          "output_type": "stream",
          "name": "stdout",
          "text": [
            "Minimize\n",
            "  2.0 R1 + 3.0 R2\n",
            "Subject To\n",
            "  R0: 5.0 R1 + 8.0 R2 >= 50\n",
            "General Integers\n",
            "  ['R1', 'R2']\n"
          ]
        },
        {
          "output_type": "stream",
          "name": "stderr",
          "text": [
            "<ipython-input-4-b88285157dd5>:11: DeprecationWarning: Model.display() is deprecated\n",
            "  Mod2.display()\n"
          ]
        }
      ]
    },
    {
      "cell_type": "markdown",
      "source": [
        "**Ejercicio 3**"
      ],
      "metadata": {
        "id": "lT-o89m7jDRj"
      }
    },
    {
      "cell_type": "code",
      "source": [
        "Mod3 = Model(\"Ejercicio3\")\n",
        "M1A = Mod3.addVar(vtype=GRB.INTEGER, name = \"M1A\")\n",
        "M1B = Mod3.addVar(vtype=GRB.INTEGER, name = \"M1B\")\n",
        "M2A = Mod3.addVar(vtype=GRB.INTEGER, name = \"M2A\")\n",
        "M2B = Mod3.addVar(vtype=GRB.INTEGER, name = \"M2B\")\n",
        "\n",
        "# EJERCICIO 3\n",
        "Mod3.setObjective(4*M1A + 5*M1B + 6*M2A + 3*M2B, GRB.MINIMIZE)\n",
        "# Disponibilidad\n",
        "Mod3.addConstr(M1A + M1B <= 200)\n",
        "Mod3.addConstr(M2A + M2B <= 150)\n",
        "# Demanda\n",
        "#Mod3.addConstr(M1A >= 100)\n",
        "#Mod3.addConstr(M2A >= 50)\n",
        "#Mod3.addConstr(M1B >= 100)\n",
        "#Mod3.addConstr(M2B >= 100)\n",
        "\n",
        "Mod3.update()\n",
        "Mod3.display()"
      ],
      "metadata": {
        "id": "O3rPcGr3prL4",
        "colab": {
          "base_uri": "https://localhost:8080/"
        },
        "outputId": "1224737c-fd30-4e4d-a4a2-20f5858ad0c7"
      },
      "execution_count": null,
      "outputs": [
        {
          "output_type": "stream",
          "name": "stdout",
          "text": [
            "Minimize\n",
            "  4.0 M1A + 5.0 M1B + 6.0 M2A + 3.0 M2B\n",
            "Subject To\n",
            "  R0: M1A + M1B <= 400\n",
            "  R1: M2A + M2B <= 300\n",
            "General Integers\n",
            "  ['M1A', 'M1B', 'M2A', 'M2B']\n"
          ]
        },
        {
          "output_type": "stream",
          "name": "stderr",
          "text": [
            "<ipython-input-13-15d5014cb2b3>:19: DeprecationWarning: Model.display() is deprecated\n",
            "  Mod3.display()\n"
          ]
        }
      ]
    },
    {
      "cell_type": "code",
      "source": [
        "Mod4 = Model(\"Ejemplo1\")\n",
        "x1 = Mod4.addVar(vtype=GRB.INTEGER, name = \"x1\")\n",
        "x2 = Mod4.addVar(vtype=GRB.INTEGER, name = \"x2\")\n",
        "\n",
        "# Objetivo\n",
        "Mod4.setObjective(5*x1 + 4*x2, GRB.MAXIMIZE)\n",
        "# Restricción\n",
        "Mod4.addConstr(2.5*x1 + 1.5*x2 <= 50)\n",
        "Mod4.addConstr(x1 + 0.5*x2 <= 30)\n",
        "Mod4.addConstr(x1 >= 20)\n",
        "\n",
        "\n",
        "Mod4.update()\n",
        "Mod4.display()"
      ],
      "metadata": {
        "colab": {
          "base_uri": "https://localhost:8080/"
        },
        "id": "d7hdL9JIsP4C",
        "outputId": "88b3af66-0851-4b3d-9769-3137a6086861"
      },
      "execution_count": null,
      "outputs": [
        {
          "output_type": "stream",
          "name": "stdout",
          "text": [
            "Maximize\n",
            "  5.0 x1 + 4.0 x2\n",
            "Subject To\n",
            "  R0: 2.5 x1 + 1.5 x2 <= 50\n",
            "  R1: x1 + 0.5 x2 <= 30\n",
            "  R2: x1 >= 20\n",
            "General Integers\n",
            "  ['x1', 'x2']\n"
          ]
        },
        {
          "output_type": "stream",
          "name": "stderr",
          "text": [
            "<ipython-input-6-0d9605a5285a>:14: DeprecationWarning: Model.display() is deprecated\n",
            "  Mod4.display()\n"
          ]
        }
      ]
    },
    {
      "cell_type": "code",
      "source": [
        "Mod5 = Model(\"Ejemplo5\")\n",
        "x1 = Mod5.addVar(vtype=GRB.INTEGER, name = \"x1\")\n",
        "x2 = Mod5.addVar(vtype=GRB.INTEGER, name = \"x2\")\n",
        "\n",
        "# Objetivo\n",
        "Mod5.setObjective(10*x1 + 5*x2, GRB.MAXIMIZE)\n",
        "# Restricción\n",
        "Mod5.addConstr(2*x1 + 3*x2 <= 51)\n",
        "\n",
        "\n",
        "Mod5.update()\n",
        "Mod5.display()"
      ],
      "metadata": {
        "colab": {
          "base_uri": "https://localhost:8080/"
        },
        "id": "v_LuQi5cFbnf",
        "outputId": "502bc45b-1b89-4925-c358-d6c185ec0c03"
      },
      "execution_count": null,
      "outputs": [
        {
          "output_type": "stream",
          "name": "stdout",
          "text": [
            "Maximize\n",
            "  10.0 x1 + 5.0 x2\n",
            "Subject To\n",
            "  R0: 2.0 x1 + 3.0 x2 <= 51\n",
            "General Integers\n",
            "  ['x1', 'x2']\n"
          ]
        },
        {
          "output_type": "stream",
          "name": "stderr",
          "text": [
            "<ipython-input-13-6133cea6cd7f>:12: DeprecationWarning: Model.display() is deprecated\n",
            "  Mod5.display()\n"
          ]
        }
      ]
    },
    {
      "cell_type": "markdown",
      "source": [
        "Optimizar la función objetivo dadas las restricciones"
      ],
      "metadata": {
        "id": "jlXoJvlFjJnQ"
      }
    },
    {
      "cell_type": "code",
      "source": [
        "start_time = time.time()\n",
        "Mod3.optimize()\n",
        "\n",
        "end_time = time.time()\n",
        "execution_time = end_time - start_time\n",
        "print(f'Execution Time: {execution_time:.9f}')"
      ],
      "metadata": {
        "colab": {
          "base_uri": "https://localhost:8080/"
        },
        "id": "X_ODMH2tp8jH",
        "outputId": "9847ba6a-ab61-4c5c-96eb-5c74c1a527c7"
      },
      "execution_count": null,
      "outputs": [
        {
          "output_type": "stream",
          "name": "stdout",
          "text": [
            "Gurobi Optimizer version 12.0.1 build v12.0.1rc0 (linux64 - \"Ubuntu 22.04.4 LTS\")\n",
            "\n",
            "CPU model: Intel(R) Xeon(R) CPU @ 2.20GHz, instruction set [SSE2|AVX|AVX2]\n",
            "Thread count: 1 physical cores, 2 logical processors, using up to 2 threads\n",
            "\n",
            "Optimize a model with 2 rows, 4 columns and 4 nonzeros\n",
            "Model fingerprint: 0x5cb9b049\n",
            "Variable types: 0 continuous, 4 integer (0 binary)\n",
            "Coefficient statistics:\n",
            "  Matrix range     [1e+00, 1e+00]\n",
            "  Objective range  [3e+00, 6e+00]\n",
            "  Bounds range     [0e+00, 0e+00]\n",
            "  RHS range        [3e+02, 4e+02]\n",
            "Found heuristic solution: objective 0.0000000\n",
            "\n",
            "Explored 0 nodes (0 simplex iterations) in 0.01 seconds (0.00 work units)\n",
            "Thread count was 1 (of 2 available processors)\n",
            "\n",
            "Solution count 1: 0 \n",
            "\n",
            "Optimal solution found (tolerance 1.00e-04)\n",
            "Best objective 0.000000000000e+00, best bound 0.000000000000e+00, gap 0.0000%\n",
            "Execution Time: 0.019273281\n"
          ]
        }
      ]
    },
    {
      "cell_type": "markdown",
      "source": [
        "Ver las salidas de la optimización"
      ],
      "metadata": {
        "id": "tW6uHjj5jWVf"
      }
    },
    {
      "cell_type": "code",
      "source": [
        "Mod3.getVars()"
      ],
      "metadata": {
        "id": "Ms-Zz9sqqFGO",
        "outputId": "252d0da1-ebfe-47b6-c74a-d9bab2d10736",
        "colab": {
          "base_uri": "https://localhost:8080/"
        }
      },
      "execution_count": null,
      "outputs": [
        {
          "output_type": "execute_result",
          "data": {
            "text/plain": [
              "[<gurobi.Var M1A (value -0.0)>,\n",
              " <gurobi.Var M1B (value -0.0)>,\n",
              " <gurobi.Var M2A (value -0.0)>,\n",
              " <gurobi.Var M2B (value -0.0)>]"
            ]
          },
          "metadata": {},
          "execution_count": 15
        }
      ]
    }
  ]
}